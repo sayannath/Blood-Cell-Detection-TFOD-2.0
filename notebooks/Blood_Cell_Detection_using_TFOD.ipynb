{
  "nbformat": 4,
  "nbformat_minor": 0,
  "metadata": {
    "colab": {
      "name": "Blood Cell Detection using TFOD.ipynb",
      "provenance": [],
      "toc_visible": true
    },
    "kernelspec": {
      "name": "python3",
      "display_name": "Python 3"
    },
    "language_info": {
      "name": "python"
    },
    "accelerator": "GPU"
  },
  "cells": [
    {
      "cell_type": "markdown",
      "metadata": {
        "id": "2SdDi7GXN-Y1"
      },
      "source": [
        "# Blood Cell Detection using TFOD 2.0\n",
        "\n",
        "**Author**: [Sayan Nath](https://github.com/sayannath) <br>\n",
        "**Dataset**: [Link](https://github.com/Shenggan/BCCD_Dataset)"
      ]
    },
    {
      "cell_type": "markdown",
      "metadata": {
        "id": "VO9SuqZZRq9s"
      },
      "source": [
        "## Intital Setup"
      ]
    },
    {
      "cell_type": "code",
      "metadata": {
        "colab": {
          "base_uri": "https://localhost:8080/"
        },
        "id": "1W7AgH9TNhz2",
        "outputId": "c4a0bd97-b2cc-4792-fe85-1762df5c52e4"
      },
      "source": [
        "!nvidia-smi"
      ],
      "execution_count": 1,
      "outputs": [
        {
          "output_type": "stream",
          "text": [
            "Fri May  7 16:05:13 2021       \n",
            "+-----------------------------------------------------------------------------+\n",
            "| NVIDIA-SMI 465.19.01    Driver Version: 460.32.03    CUDA Version: 11.2     |\n",
            "|-------------------------------+----------------------+----------------------+\n",
            "| GPU  Name        Persistence-M| Bus-Id        Disp.A | Volatile Uncorr. ECC |\n",
            "| Fan  Temp  Perf  Pwr:Usage/Cap|         Memory-Usage | GPU-Util  Compute M. |\n",
            "|                               |                      |               MIG M. |\n",
            "|===============================+======================+======================|\n",
            "|   0  Tesla T4            Off  | 00000000:00:04.0 Off |                    0 |\n",
            "| N/A   42C    P8     9W /  70W |      0MiB / 15109MiB |      0%      Default |\n",
            "|                               |                      |                  N/A |\n",
            "+-------------------------------+----------------------+----------------------+\n",
            "                                                                               \n",
            "+-----------------------------------------------------------------------------+\n",
            "| Processes:                                                                  |\n",
            "|  GPU   GI   CI        PID   Type   Process name                  GPU Memory |\n",
            "|        ID   ID                                                   Usage      |\n",
            "|=============================================================================|\n",
            "|  No running processes found                                                 |\n",
            "+-----------------------------------------------------------------------------+\n"
          ],
          "name": "stdout"
        }
      ]
    },
    {
      "cell_type": "markdown",
      "metadata": {
        "id": "OxKdpGegnDGU"
      },
      "source": [
        "### Install the tensorflow-gpu"
      ]
    },
    {
      "cell_type": "code",
      "metadata": {
        "id": "8qplQ6NxRuz3"
      },
      "source": [
        "!pip install -q tensorflow-gpu"
      ],
      "execution_count": null,
      "outputs": []
    },
    {
      "cell_type": "markdown",
      "metadata": {
        "id": "wqROIVsqnMqW"
      },
      "source": [
        "#### Checking the TF-Version"
      ]
    },
    {
      "cell_type": "code",
      "metadata": {
        "id": "Umx3z_CfnLdH"
      },
      "source": [
        "import tensorflow as tf\n",
        "print(tf.__version__) #TF Version"
      ],
      "execution_count": null,
      "outputs": []
    },
    {
      "cell_type": "markdown",
      "metadata": {
        "id": "W0YV1FAwnUGS"
      },
      "source": [
        "Note: Using `2.4.1`"
      ]
    },
    {
      "cell_type": "markdown",
      "metadata": {
        "id": "hQqgNww-nnMh"
      },
      "source": [
        "## Clone the Blood Cell Detection Repository"
      ]
    },
    {
      "cell_type": "code",
      "metadata": {
        "id": "fVUJ_Ursnm8H"
      },
      "source": [
        "https://github.com/sayannath/Blood-Cell-Detection-TFOD-2.0.git"
      ],
      "execution_count": null,
      "outputs": []
    },
    {
      "cell_type": "markdown",
      "metadata": {
        "id": "oiDB0h_7nekH"
      },
      "source": [
        "## Clone the TFOD 2.0 Repository"
      ]
    },
    {
      "cell_type": "code",
      "metadata": {
        "id": "SrfgEcMqnZQq"
      },
      "source": [
        "!git clone https://github.com/tensorflow/models.git"
      ],
      "execution_count": null,
      "outputs": []
    },
    {
      "cell_type": "markdown",
      "metadata": {
        "id": "ZaKUv-xlnuK6"
      },
      "source": [
        "Note: Rename the folder into `training_demo`"
      ]
    },
    {
      "cell_type": "markdown",
      "metadata": {
        "id": "hMgfh_A8n5p5"
      },
      "source": [
        "## Setup TensorFlow Object Detection API\n",
        "\n",
        "1. Protobuf Installation/Compilation\n",
        "2. COCO API installation\n",
        "3. Install the Object Detection API\n",
        "4. Test your Installation\n"
      ]
    },
    {
      "cell_type": "markdown",
      "metadata": {
        "id": "ZLpdus45pz7W"
      },
      "source": [
        "### Protobuf Installation/Compilation"
      ]
    },
    {
      "cell_type": "code",
      "metadata": {
        "id": "3mFdqxBondus"
      },
      "source": [
        "cd /content/models/research"
      ],
      "execution_count": null,
      "outputs": []
    },
    {
      "cell_type": "code",
      "metadata": {
        "id": "foNHyoaGp8l7"
      },
      "source": [
        "!protoc object_detection/protos/*.proto --python_out=."
      ],
      "execution_count": null,
      "outputs": []
    },
    {
      "cell_type": "markdown",
      "metadata": {
        "id": "FR-ghzcqqAFy"
      },
      "source": [
        "### COCO API installation"
      ]
    },
    {
      "cell_type": "code",
      "metadata": {
        "id": "it_zbwBmp_RZ"
      },
      "source": [
        "!git clone https://github.com/cocodataset/cocoapi.git"
      ],
      "execution_count": null,
      "outputs": []
    },
    {
      "cell_type": "code",
      "metadata": {
        "id": "9PU6eZoTqHPi"
      },
      "source": [
        "cd cocoapi/PythonAPI"
      ],
      "execution_count": null,
      "outputs": []
    },
    {
      "cell_type": "code",
      "metadata": {
        "id": "D9aTOlUQqJDU"
      },
      "source": [
        "!make"
      ],
      "execution_count": null,
      "outputs": []
    },
    {
      "cell_type": "code",
      "metadata": {
        "id": "VPme0qamqPGR"
      },
      "source": [
        "cp -r pycocotools /content/models/research"
      ],
      "execution_count": null,
      "outputs": []
    },
    {
      "cell_type": "markdown",
      "metadata": {
        "id": "QMdnyvcrqQr-"
      },
      "source": [
        "### Install the Object Installation API"
      ]
    },
    {
      "cell_type": "code",
      "metadata": {
        "id": "zwT404GgqQc2"
      },
      "source": [
        "cd .."
      ],
      "execution_count": null,
      "outputs": []
    },
    {
      "cell_type": "code",
      "metadata": {
        "id": "WaLn_GMkqZcv"
      },
      "source": [
        "cd .."
      ],
      "execution_count": null,
      "outputs": []
    },
    {
      "cell_type": "code",
      "metadata": {
        "id": "ZorA2z3OqaIV"
      },
      "source": [
        "cp object_detection/packages/tf2/setup.py ."
      ],
      "execution_count": null,
      "outputs": []
    },
    {
      "cell_type": "code",
      "metadata": {
        "id": "xBqalPpSqcVp"
      },
      "source": [
        "!python -m pip -q install ."
      ],
      "execution_count": null,
      "outputs": []
    },
    {
      "cell_type": "markdown",
      "metadata": {
        "id": "4e-fmJ1Gqh4_"
      },
      "source": [
        "### Test the installation"
      ]
    },
    {
      "cell_type": "code",
      "metadata": {
        "id": "pimG1_lTqj7L"
      },
      "source": [
        "# From within TensorFlow/models/research/\n",
        "!python object_detection/builders/model_builder_tf2_test.py"
      ],
      "execution_count": null,
      "outputs": []
    },
    {
      "cell_type": "markdown",
      "metadata": {
        "id": "udIhXDUtq_qC"
      },
      "source": [
        "Good to go!"
      ]
    },
    {
      "cell_type": "code",
      "metadata": {
        "id": "zuHI_OqNu940"
      },
      "source": [
        "cd .."
      ],
      "execution_count": null,
      "outputs": []
    },
    {
      "cell_type": "code",
      "metadata": {
        "id": "-O5ZgFt6u-q_"
      },
      "source": [
        "cd .."
      ],
      "execution_count": null,
      "outputs": []
    },
    {
      "cell_type": "markdown",
      "metadata": {
        "id": "HpNc9VXMrCCs"
      },
      "source": [
        "## Download the `pre-trained` model\n",
        "\n",
        "> [Faster R-CNN ResNet152 V1 640x640](http://download.tensorflow.org/models/object_detection/tf2/20200711/faster_rcnn_resnet152_v1_640x640_coco17_tpu-8.tar.gz)\n",
        "\n",
        "> [Faster R-CNN ResNet101 V1 640x640](http://download.tensorflow.org/models/object_detection/tf2/20200711/faster_rcnn_resnet101_v1_640x640_coco17_tpu-8.tar.gz)\n",
        "\n",
        "> [Faster R-CNN Inception ResNet V2 640x640](http://download.tensorflow.org/models/object_detection/tf2/20200711/faster_rcnn_inception_resnet_v2_640x640_coco17_tpu-8.tar.gz)"
      ]
    },
    {
      "cell_type": "code",
      "metadata": {
        "id": "MR6-YobhqlGY"
      },
      "source": [
        "cd /content/training_demo/pre_trained_models"
      ],
      "execution_count": null,
      "outputs": []
    },
    {
      "cell_type": "code",
      "metadata": {
        "id": "PrOgX11GvCKz"
      },
      "source": [
        "!wget http://download.tensorflow.org/models/object_detection/tf2/20200711/faster_rcnn_resnet152_v1_640x640_coco17_tpu-8.tar.gz"
      ],
      "execution_count": null,
      "outputs": []
    },
    {
      "cell_type": "code",
      "metadata": {
        "id": "XWclUGRivHHP"
      },
      "source": [
        "!tar -xvf faster_rcnn_resnet152_v1_640x640_coco17_tpu-8.tar.gz"
      ],
      "execution_count": null,
      "outputs": []
    },
    {
      "cell_type": "code",
      "metadata": {
        "id": "83ouwdczvOBQ"
      },
      "source": [
        "cd /content/training_demo"
      ],
      "execution_count": null,
      "outputs": []
    },
    {
      "cell_type": "markdown",
      "metadata": {
        "id": "UDLpqxjhvPZ3"
      },
      "source": [
        "## Generate TF `record` files"
      ]
    },
    {
      "cell_type": "code",
      "metadata": {
        "id": "4MCgJf3yvPBI"
      },
      "source": [
        "# Create train data:\n",
        "!python generate_tfrecord.py -x /content/training_demo/images/train -l /content/training_demo/annotations/label_map.pbtxt -o /content/training_demo/annotations/train.record\n",
        "\n",
        "# Create test data:\n",
        "!python generate_tfrecord.py -x /content/training_demo/images/test -l /content/training_demo/annotations/label_map.pbtxt -o /content/training_demo/annotations/test.record"
      ],
      "execution_count": null,
      "outputs": []
    },
    {
      "cell_type": "markdown",
      "metadata": {
        "id": "XAyIc-HDvkN5"
      },
      "source": [
        "## Train the Model"
      ]
    },
    {
      "cell_type": "code",
      "metadata": {
        "id": "BKpvH_KkvjGt"
      },
      "source": [
        ""
      ],
      "execution_count": null,
      "outputs": []
    }
  ]
}